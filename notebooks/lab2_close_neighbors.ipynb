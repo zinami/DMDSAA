{
 "cells": [
  {
   "cell_type": "markdown",
   "metadata": {},
   "source": [
    "# Distance Matrix"
   ]
  },
  {
   "cell_type": "code",
   "execution_count": null,
   "metadata": {},
   "outputs": [],
   "source": [
    "# imports\n",
    "from sklearn import datasets\n",
    "import numpy as np"
   ]
  },
  {
   "cell_type": "code",
   "execution_count": null,
   "metadata": {},
   "outputs": [],
   "source": [
    "# abstract\n",
    "dataset = datasets.load_iris()"
   ]
  },
  {
   "cell_type": "code",
   "execution_count": null,
   "metadata": {},
   "outputs": [],
   "source": [
    "# dictionary\n",
    "dataset.keys()"
   ]
  },
  {
   "cell_type": "code",
   "execution_count": null,
   "metadata": {},
   "outputs": [],
   "source": [
    "dataset[\"feature_names\"]"
   ]
  },
  {
   "cell_type": "code",
   "execution_count": null,
   "metadata": {},
   "outputs": [],
   "source": [
    "data = dataset[\"data\"]\n",
    "# data  # data is a numpy array data structure. Think of it as a matrix of data (or as an excel spreadsheet)"
   ]
  },
  {
   "cell_type": "code",
   "execution_count": null,
   "metadata": {},
   "outputs": [],
   "source": [
    "data.shape"
   ]
  },
  {
   "cell_type": "code",
   "execution_count": null,
   "metadata": {},
   "outputs": [],
   "source": [
    "# euclidean distance of 2 observations\n",
    "p1 = data[50]\n",
    "p2 = data[100]\n",
    "sum(((p1 - p2)**2))**(1/2)"
   ]
  },
  {
   "cell_type": "code",
   "execution_count": null,
   "metadata": {},
   "outputs": [],
   "source": [
    "# initialize distance matrix. What will be its final shape?\n",
    "dist = []"
   ]
  },
  {
   "cell_type": "code",
   "execution_count": null,
   "metadata": {},
   "outputs": [],
   "source": [
    "# Build the distance matrix. Use 2 for loops, the append list method and the euclidean distance formula\n",
    "for i in range(data.shape[0]):\n",
    "    dist_row = []\n",
    "    for j in range(data.shape[0]):\n",
    "        single_dist = sum((data[i] - data[j]) ** 2) ** 1/2\n",
    "        dist_row.append(single_dist)\n",
    "    dist.append(dist_row)        "
   ]
  },
  {
   "cell_type": "code",
   "execution_count": null,
   "metadata": {},
   "outputs": [],
   "source": [
    "# dist"
   ]
  },
  {
   "cell_type": "code",
   "execution_count": null,
   "metadata": {},
   "outputs": [],
   "source": [
    "# another import (usually all imports are done at the top of the script/ notebook)\n",
    "import seaborn as sns"
   ]
  },
  {
   "cell_type": "code",
   "execution_count": null,
   "metadata": {},
   "outputs": [],
   "source": [
    "sns.heatmap(dist)"
   ]
  },
  {
   "cell_type": "markdown",
   "metadata": {},
   "source": [
    "# Plotting data: \n",
    "Don't worry about the code as that's not the objective of the exercise and we will learn how to plot data in future classes\n",
    "### How can we represent an observation in a N-dimensional Space"
   ]
  },
  {
   "cell_type": "code",
   "execution_count": null,
   "metadata": {},
   "outputs": [],
   "source": [
    "# another import (usually all imports are done at the top of the script/ notebook)\n",
    "import matplotlib.pyplot as plt"
   ]
  },
  {
   "cell_type": "code",
   "execution_count": null,
   "metadata": {},
   "outputs": [],
   "source": [
    "# 2D scatter plot\n",
    "plt.scatter(data[:, 0], data[:, 1])\n",
    "plt.xlabel(dataset[\"feature_names\"][0])\n",
    "plt.ylabel(dataset[\"feature_names\"][1])\n",
    "plt.show()"
   ]
  },
  {
   "cell_type": "code",
   "execution_count": null,
   "metadata": {},
   "outputs": [],
   "source": [
    "# 1D scatter plot\n",
    "plt.scatter(data[:, 0], [0 for i in range(data.shape[0])])\n",
    "plt.xlabel(dataset[\"feature_names\"][0])\n",
    "plt.show()"
   ]
  },
  {
   "cell_type": "code",
   "execution_count": null,
   "metadata": {},
   "outputs": [],
   "source": [
    "# 3D scatter plot\n",
    "fig = plt.figure(figsize=(14, 7))  # defining a figure so we can add a 3d subplot\n",
    "ax = fig.add_subplot(111, projection=\"3d\")\n",
    "ax.scatter(data[:, 0], data[:, 1], data[:, 2])\n",
    "ax.set_xlabel(dataset[\"feature_names\"][0])\n",
    "ax.set_ylabel(dataset[\"feature_names\"][1])\n",
    "ax.set_zlabel(dataset[\"feature_names\"][2])\n",
    "plt.show()"
   ]
  },
  {
   "cell_type": "markdown",
   "metadata": {},
   "source": [
    "## Finding nearest neighbors"
   ]
  },
  {
   "cell_type": "code",
   "execution_count": null,
   "metadata": {},
   "outputs": [],
   "source": [
    "# get variables to save closest neighbors later\n",
    "min_args, min_dist = (None, 9e99)\n",
    "for id_r, row in enumerate(dist):\n",
    "    # CODE HERE\n"
   ]
  },
  {
   "cell_type": "code",
   "execution_count": null,
   "metadata": {
    "scrolled": true
   },
   "outputs": [],
   "source": [
    "min_args"
   ]
  },
  {
   "cell_type": "code",
   "execution_count": null,
   "metadata": {},
   "outputs": [],
   "source": [
    "print(data[min_args[0]])\n",
    "print(data[min_args[1]])\n",
    "print('minimum distance:\\t', min_dist)"
   ]
  },
  {
   "cell_type": "markdown",
   "metadata": {},
   "source": [
    "## Define functions\n",
    "Why do we want to define functions in this case?"
   ]
  },
  {
   "cell_type": "code",
   "execution_count": null,
   "metadata": {},
   "outputs": [],
   "source": [
    "def distance_matrix(data):\n",
    "    # CODE HERE\n",
    "    return dist    \n",
    "\n",
    "def closest_points(dist_matrix):\n",
    "    # CODE HERE\n",
    "    return min_args, min_dist"
   ]
  },
  {
   "cell_type": "markdown",
   "metadata": {},
   "source": [
    "## Finding the `n` shortest distances"
   ]
  },
  {
   "cell_type": "code",
   "execution_count": null,
   "metadata": {},
   "outputs": [],
   "source": [
    "dist_matrix = distance_matrix(data)\n",
    "n_distances = 10\n",
    "\n",
    "# CODE HERE\n",
    "\n",
    "distances"
   ]
  },
  {
   "cell_type": "markdown",
   "metadata": {},
   "source": [
    "## Programming a nearest neighbors algorithm (not covered in class)"
   ]
  },
  {
   "cell_type": "code",
   "execution_count": null,
   "metadata": {},
   "outputs": [],
   "source": [
    "# Update the dataset to include the cluster centroid and drop the closest points\n",
    "# we're going to take this code and define as a function later\n",
    "data_ = data.copy()\n",
    "cluster = list(range(data_.shape[0]))\n",
    "\n",
    "dist_matrix = distance_matrix(data_)\n",
    "min_args, _ = closest_points(dist_matrix)\n",
    "\n",
    "# update clusters\n",
    "\n",
    "# add new cluster label to centroid, append centroid to the dataset and delete joined observations\n"
   ]
  },
  {
   "cell_type": "code",
   "execution_count": null,
   "metadata": {},
   "outputs": [],
   "source": [
    "print(\"Added cluster label:\", cluster[-1], \"with the respective values:\", data_[-1])"
   ]
  },
  {
   "cell_type": "code",
   "execution_count": null,
   "metadata": {},
   "outputs": [],
   "source": [
    "def nearest_neighbors_clustering(data, k=10):\n",
    "    data_ = data.copy()\n",
    "    cluster = list(range(data_.shape[0]))\n",
    "    \n",
    "    while len(cluster)>k:\n",
    "        # USE THE CODE FROM THE PREVIOUS CELL HERE\n",
    "        \n",
    "    return cluster, data_\n"
   ]
  },
  {
   "cell_type": "code",
   "execution_count": null,
   "metadata": {},
   "outputs": [],
   "source": [
    "nearest_neighbors_clustering(data)"
   ]
  },
  {
   "cell_type": "code",
   "execution_count": null,
   "metadata": {},
   "outputs": [],
   "source": []
  }
 ],
 "metadata": {
  "kernelspec": {
   "display_name": "Python 3",
   "language": "python",
   "name": "python3"
  },
  "language_info": {
   "codemirror_mode": {
    "name": "ipython",
    "version": 3
   },
   "file_extension": ".py",
   "mimetype": "text/x-python",
   "name": "python",
   "nbconvert_exporter": "python",
   "pygments_lexer": "ipython3",
   "version": "3.8.5"
  }
 },
 "nbformat": 4,
 "nbformat_minor": 4
}
